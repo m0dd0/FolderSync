{
 "cells": [
  {
   "cell_type": "code",
   "execution_count": 11,
   "metadata": {},
   "outputs": [],
   "source": [
    "from pathlib import Path\n",
    "\n",
    "# P = Path(\"D:/Dokumente/\")\n",
    "P = Path(\"D:/Bilder/\")\n"
   ]
  },
  {
   "cell_type": "code",
   "execution_count": 12,
   "metadata": {},
   "outputs": [],
   "source": [
    "for _ in P.rglob(\"*\"):\n",
    "    pass"
   ]
  },
  {
   "cell_type": "code",
   "execution_count": 13,
   "metadata": {},
   "outputs": [],
   "source": [
    "def elem_type(p):\n",
    "    if p.is_file():\n",
    "        return \"file\"\n",
    "    elif p.is_dir():\n",
    "        return \"dir\"\n",
    "    else:\n",
    "        return \"other\"\n",
    "\n",
    "def _analyse_folder(p):\n",
    "    for elem in p.iterdir():\n",
    "        try:\n",
    "            t = elem_type(elem)\n",
    "        except OSError:\n",
    "            continue\n",
    "\n",
    "        if t == \"file\":\n",
    "            pass\n",
    "        elif t == \"dir\":\n",
    "            _analyse_folder(elem)"
   ]
  },
  {
   "cell_type": "code",
   "execution_count": 14,
   "metadata": {},
   "outputs": [],
   "source": [
    "_analyse_folder(P)"
   ]
  }
 ],
 "metadata": {
  "kernelspec": {
   "display_name": "Python 3",
   "language": "python",
   "name": "python3"
  },
  "language_info": {
   "codemirror_mode": {
    "name": "ipython",
    "version": 3
   },
   "file_extension": ".py",
   "mimetype": "text/x-python",
   "name": "python",
   "nbconvert_exporter": "python",
   "pygments_lexer": "ipython3",
   "version": "3.11.3"
  },
  "orig_nbformat": 4,
  "vscode": {
   "interpreter": {
    "hash": "e41f63829d8e97276cbb1f7b474b7c30d3a33e7416d9a01b5ea5b6b03cd367df"
   }
  }
 },
 "nbformat": 4,
 "nbformat_minor": 2
}
