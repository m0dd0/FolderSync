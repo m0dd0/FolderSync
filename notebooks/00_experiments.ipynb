{
 "cells": [
  {
   "cell_type": "code",
   "execution_count": 1,
   "metadata": {},
   "outputs": [],
   "source": [
    "from pathlib import Path\n",
    "\n",
    "P = Path(\"D:/Dokumente/\")\n",
    "# P = Path(\"D:/Bilder/\")\n"
   ]
  },
  {
   "cell_type": "code",
   "execution_count": 2,
   "metadata": {},
   "outputs": [],
   "source": [
    "for _ in P.rglob(\"*\"):\n",
    "    pass"
   ]
  },
  {
   "cell_type": "code",
   "execution_count": 3,
   "metadata": {},
   "outputs": [],
   "source": [
    "def elem_type(p):\n",
    "    if p.is_file():\n",
    "        return \"file\"\n",
    "    elif p.is_dir():\n",
    "        return \"dir\"\n",
    "    else:\n",
    "        return \"other\"\n",
    "\n",
    "def _analyse_folder(p):\n",
    "    for elem in p.iterdir():\n",
    "        try:\n",
    "            t = elem_type(elem)\n",
    "        except OSError:\n",
    "            continue\n",
    "\n",
    "        if t == \"file\":\n",
    "            pass\n",
    "        elif t == \"dir\":\n",
    "            _analyse_folder(elem)"
   ]
  },
  {
   "cell_type": "code",
   "execution_count": 4,
   "metadata": {},
   "outputs": [],
   "source": [
    "_analyse_folder(P)"
   ]
  },
  {
   "cell_type": "code",
   "execution_count": null,
   "metadata": {},
   "outputs": [],
   "source": [
    "source = Path(\"D:/Dokumente/\")\n",
    "target = Path(\"D:/Dokumente2/\")\n",
    "\n",
    "source_paths = set(source.rglob(\"*\"))\n",
    "target_paths = set(target.rglob(\"*\"))\n",
    "source_paths = {p.relative_to(source) for p in source_paths}\n",
    "target_paths = {p.relative_to(target) for p in target_paths}\n",
    "\n",
    "# get all relative paths for files and folders which are in target but not in source\n",
    "paths_only_in_target = target_paths - source_paths\n",
    "removed_files = {p for p in paths_only_in_target if (target / p).is_file()}\n",
    "removed_folders = {p for p in paths_only_in_target if (target / p).is_dir()}\n",
    "removed_toplevel_folders = {\n",
    "    p for p in removed_folders if p.parent not in removed_folders\n",
    "}\n",
    "\n",
    "# get all relative paths for files and folders which are in source but not in target\n",
    "paths_only_in_source = source_paths - target_paths\n",
    "new_files = {p for p in paths_only_in_source if (source / p).is_file()}\n",
    "new_folders = {p for p in paths_only_in_source if (source / p).is_dir()}\n",
    "new_toplevel_folders = {\n",
    "    p for p in new_folders if p.parent not in new_folders\n",
    "}\n",
    "\n",
    "#\n",
    "paths_in_source_and_target = source_paths & target_paths\n",
    "changed_files = {}\n",
    "changed_folder2file = {}\n",
    "changed_file2folder = {}\n",
    "unchanged_files = {}\n",
    "for p in paths_in_source_and_target:\n",
    "    if (source / p).is_file() and (target / p).is_file():\n",
    "        if filecmp(source / p, target / p):\n",
    "            changed_files.add(p)\n",
    "        else:\n",
    "            unchanged_files.add(p)\n",
    "    elif source / p.is_file() and target / p.is_dir():\n",
    "        changed_file2folder.add(p)\n",
    "    elif source / p.is_dir() and target / p.is_file():\n",
    "        changed_folder2file.add(p)\n",
    "    "
   ]
  },
  {
   "cell_type": "code",
   "execution_count": 5,
   "metadata": {},
   "outputs": [],
   "source": [
    "import uuid\n",
    "\n",
    "s1 = set([uuid.uuid4() for _ in range(300_000)])"
   ]
  }
 ],
 "metadata": {
  "kernelspec": {
   "display_name": "Python 3",
   "language": "python",
   "name": "python3"
  },
  "language_info": {
   "codemirror_mode": {
    "name": "ipython",
    "version": 3
   },
   "file_extension": ".py",
   "mimetype": "text/x-python",
   "name": "python",
   "nbconvert_exporter": "python",
   "pygments_lexer": "ipython3",
   "version": "3.11.3"
  },
  "orig_nbformat": 4,
  "vscode": {
   "interpreter": {
    "hash": "e41f63829d8e97276cbb1f7b474b7c30d3a33e7416d9a01b5ea5b6b03cd367df"
   }
  }
 },
 "nbformat": 4,
 "nbformat_minor": 2
}
