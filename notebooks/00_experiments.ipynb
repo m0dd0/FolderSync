{
 "cells": [
  {
   "cell_type": "code",
   "execution_count": 1,
   "metadata": {},
   "outputs": [],
   "source": [
    "from pathlib import Path"
   ]
  },
  {
   "cell_type": "code",
   "execution_count": 2,
   "metadata": {},
   "outputs": [
    {
     "name": "stdout",
     "output_type": "stream",
     "text": [
      "os.stat_result(st_mode=33206, st_ino=281474977303970, st_dev=397746944, st_nlink=1, st_uid=0, st_gid=0, st_size=1, st_atime=1683363169, st_mtime=1683360778, st_ctime=1683360246)\n",
      "test.txt_1683360778.8949096_1\n",
      "os.stat_result(st_mode=33206, st_ino=281474977303973, st_dev=397746944, st_nlink=1, st_uid=0, st_gid=0, st_size=1, st_atime=1683363214, st_mtime=1683360778, st_ctime=1683360784)\n",
      "test2.txt_1683360778.8949096_1\n"
     ]
    }
   ],
   "source": [
    "from folder_sync import MetadataHasher\n",
    "import shutil\n",
    "\n",
    "mh = MetadataHasher()\n",
    "\n",
    "p = Path.cwd().parent / \"tests\" / \"test_data\" / \"test.txt\"\n",
    "print(p.stat())\n",
    "print(mh(p))\n",
    "\n",
    "p_copied = p.parent / \"test2.txt\"\n",
    "shutil.copy2(p, p_copied)\n",
    "print(p_copied.stat())\n",
    "print(mh(p_copied))"
   ]
  },
  {
   "cell_type": "code",
   "execution_count": 3,
   "metadata": {},
   "outputs": [
    {
     "ename": "KeyboardInterrupt",
     "evalue": "",
     "output_type": "error",
     "traceback": [
      "\u001b[1;31m---------------------------------------------------------------------------\u001b[0m",
      "\u001b[1;31mKeyboardInterrupt\u001b[0m                         Traceback (most recent call last)",
      "Cell \u001b[1;32mIn[3], line 3\u001b[0m\n\u001b[0;32m      1\u001b[0m \u001b[39mfrom\u001b[39;00m \u001b[39muuid\u001b[39;00m \u001b[39mimport\u001b[39;00m uuid4\n\u001b[1;32m----> 3\u001b[0m s1 \u001b[39m=\u001b[39m \u001b[39mset\u001b[39m([uuid4() \u001b[39mfor\u001b[39;49;00m _ \u001b[39min\u001b[39;49;00m \u001b[39mrange\u001b[39;49m(\u001b[39m1_000_000\u001b[39;49m)])\n\u001b[0;32m      4\u001b[0m s2 \u001b[39m=\u001b[39m \u001b[39mset\u001b[39m([uuid4() \u001b[39mfor\u001b[39;00m _ \u001b[39min\u001b[39;00m \u001b[39mrange\u001b[39m(\u001b[39m500_000\u001b[39m)])\n\u001b[0;32m      5\u001b[0m s \u001b[39m=\u001b[39m s1\u001b[39m.\u001b[39munion(s2)\n",
      "Cell \u001b[1;32mIn[3], line 3\u001b[0m, in \u001b[0;36m<listcomp>\u001b[1;34m(.0)\u001b[0m\n\u001b[0;32m      1\u001b[0m \u001b[39mfrom\u001b[39;00m \u001b[39muuid\u001b[39;00m \u001b[39mimport\u001b[39;00m uuid4\n\u001b[1;32m----> 3\u001b[0m s1 \u001b[39m=\u001b[39m \u001b[39mset\u001b[39m([uuid4() \u001b[39mfor\u001b[39;00m _ \u001b[39min\u001b[39;00m \u001b[39mrange\u001b[39m(\u001b[39m1_000_000\u001b[39m)])\n\u001b[0;32m      4\u001b[0m s2 \u001b[39m=\u001b[39m \u001b[39mset\u001b[39m([uuid4() \u001b[39mfor\u001b[39;00m _ \u001b[39min\u001b[39;00m \u001b[39mrange\u001b[39m(\u001b[39m500_000\u001b[39m)])\n\u001b[0;32m      5\u001b[0m s \u001b[39m=\u001b[39m s1\u001b[39m.\u001b[39munion(s2)\n",
      "File \u001b[1;32mc:\\Users\\mohes\\miniconda3\\envs\\FolderSync\\Lib\\uuid.py:723\u001b[0m, in \u001b[0;36muuid4\u001b[1;34m()\u001b[0m\n\u001b[0;32m    721\u001b[0m \u001b[39mdef\u001b[39;00m \u001b[39muuid4\u001b[39m():\n\u001b[0;32m    722\u001b[0m \u001b[39m    \u001b[39m\u001b[39m\"\"\"Generate a random UUID.\"\"\"\u001b[39;00m\n\u001b[1;32m--> 723\u001b[0m     \u001b[39mreturn\u001b[39;00m UUID(\u001b[39mbytes\u001b[39;49m\u001b[39m=\u001b[39;49mos\u001b[39m.\u001b[39;49murandom(\u001b[39m16\u001b[39;49m), version\u001b[39m=\u001b[39;49m\u001b[39m4\u001b[39;49m)\n",
      "File \u001b[1;32mc:\\Users\\mohes\\miniconda3\\envs\\FolderSync\\Lib\\uuid.py:222\u001b[0m, in \u001b[0;36mUUID.__init__\u001b[1;34m(self, hex, bytes, bytes_le, fields, int, version, is_safe)\u001b[0m\n\u001b[0;32m    220\u001b[0m     \u001b[39mint\u001b[39m \u001b[39m&\u001b[39m\u001b[39m=\u001b[39m \u001b[39m~\u001b[39m(\u001b[39m0xf000\u001b[39m \u001b[39m<<\u001b[39m \u001b[39m64\u001b[39m)\n\u001b[0;32m    221\u001b[0m     \u001b[39mint\u001b[39m \u001b[39m|\u001b[39m\u001b[39m=\u001b[39m version \u001b[39m<<\u001b[39m \u001b[39m76\u001b[39m\n\u001b[1;32m--> 222\u001b[0m \u001b[39mobject\u001b[39;49m\u001b[39m.\u001b[39;49m\u001b[39m__setattr__\u001b[39;49m(\u001b[39mself\u001b[39;49m, \u001b[39m'\u001b[39;49m\u001b[39mint\u001b[39;49m\u001b[39m'\u001b[39;49m, \u001b[39mint\u001b[39;49m)\n\u001b[0;32m    223\u001b[0m \u001b[39mobject\u001b[39m\u001b[39m.\u001b[39m\u001b[39m__setattr__\u001b[39m(\u001b[39mself\u001b[39m, \u001b[39m'\u001b[39m\u001b[39mis_safe\u001b[39m\u001b[39m'\u001b[39m, is_safe)\n",
      "\u001b[1;31mKeyboardInterrupt\u001b[0m: "
     ]
    }
   ],
   "source": [
    "from uuid import uuid4\n",
    "\n",
    "s1 = set([uuid4() for _ in range(1_000_000)])\n",
    "s2 = set([uuid4() for _ in range(500_000)])\n",
    "s = s1.union(s2)\n",
    "\n",
    "%timeit s - s2\n",
    "%timeit s - s1 "
   ]
  },
  {
   "cell_type": "code",
   "execution_count": null,
   "metadata": {},
   "outputs": [],
   "source": [
    "import stat\n",
    "\n",
    "p = Path.cwd().parent / \"tests\" / \"test_data\" / \"test.txt\"\n",
    "\n",
    "print(p.stat().st_mode)\n",
    "print(stat.S_IFMT(p.stat().st_mode))\n",
    "\n",
    "print(stat.S_IFREG)"
   ]
  },
  {
   "cell_type": "code",
   "execution_count": null,
   "metadata": {},
   "outputs": [],
   "source": [
    "import filecmp\n",
    "\n",
    "p1 = Path.cwd().parent / \"tests\" / \"test_data\" / \"semester_10\"\n",
    "p2 = Path.cwd().parent / \"tests\" / \"test_data\" / \"semester_10_copy\"\n",
    "\n",
    "# filecmp.dircmp(p1, p2).report_partial_closure()\n",
    "# filecmp.dircmp(p1, p2).report_full_closure()\n",
    "filecmp.dircmp(p1, p2).subdirs"
   ]
  },
  {
   "cell_type": "code",
   "execution_count": null,
   "metadata": {},
   "outputs": [],
   "source": []
  },
  {
   "cell_type": "code",
   "execution_count": null,
   "metadata": {},
   "outputs": [],
   "source": [
    "stats = {}\n",
    "\n",
    "def sync_folder(source, target):\n",
    "    for elem in target.iterdir():\n",
    "        if elem.is_file():\n",
    "            if elem not in source.iterdir():\n",
    "                elem.unlink()\n",
    "                stats[\"deleted_files\"] += 1\n",
    "        else:\n",
    "            if elem not in source.iterdir():\n",
    "                shutil.rmtree(elem)\n",
    "                stats[\"deleted_folders\"] += 1\n",
    "\n",
    "    for elem in source.iterdir():\n",
    "        if elem.is_file():\n",
    "            if elem not in target.iterdir():\n",
    "                shutil.copy2(elem, target)\n",
    "                stats[\"copied_files\"] += 1\n",
    "            else:\n",
    "                if hasher(elem) != hasher(target / elem.name):\n",
    "                    shutil.copy2(elem, target)\n",
    "                    stats[\"changed_files\"] += 1\n",
    "                else:\n",
    "                    stats[\"unchanged_files\"] += 1\n",
    "        else: # is dir\n",
    "            if elem not in target.iterdir():\n",
    "                shutil.copytree(elem, target / elem.name)\n",
    "            else:\n",
    "                sync_folder(elem, target / elem.name)"
   ]
  }
 ],
 "metadata": {
  "kernelspec": {
   "display_name": "Python 3",
   "language": "python",
   "name": "python3"
  },
  "language_info": {
   "codemirror_mode": {
    "name": "ipython",
    "version": 3
   },
   "file_extension": ".py",
   "mimetype": "text/x-python",
   "name": "python",
   "nbconvert_exporter": "python",
   "pygments_lexer": "ipython3",
   "version": "3.11.3"
  },
  "orig_nbformat": 4,
  "vscode": {
   "interpreter": {
    "hash": "e41f63829d8e97276cbb1f7b474b7c30d3a33e7416d9a01b5ea5b6b03cd367df"
   }
  }
 },
 "nbformat": 4,
 "nbformat_minor": 2
}
