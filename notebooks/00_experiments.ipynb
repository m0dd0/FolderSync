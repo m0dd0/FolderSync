{
 "cells": [
  {
   "cell_type": "code",
   "execution_count": 1,
   "metadata": {},
   "outputs": [],
   "source": [
    "import hashlib\n",
    "from pathlib import Path\n",
    "\n",
    "p = Path.cwd().parent / \"tests\" / \"test_data\" / \"test.txt\""
   ]
  },
  {
   "cell_type": "code",
   "execution_count": 2,
   "metadata": {},
   "outputs": [
    {
     "name": "stdout",
     "output_type": "stream",
     "text": [
      "d41d8cd98f00b204e9800998ecf8427e\n"
     ]
    }
   ],
   "source": [
    "hasher = hashlib.md5()\n",
    "\n",
    "with open(p, \"rb\") as f:\n",
    "    buf = f.read()\n",
    "    hasher.update(buf)\n",
    "\n",
    "print(hasher.hexdigest())\n",
    "# d41d8cd98f00b204e9800998ecf8427e\n",
    "# 0cc175b9c0f1b6a831c399e269772661\n",
    "# d41d8cd98f00b204e9800998ecf8427e"
   ]
  },
  {
   "cell_type": "code",
   "execution_count": 3,
   "metadata": {},
   "outputs": [
    {
     "data": {
      "text/plain": [
       "'14a9f8c6f825091c7ca23da3bce1dfd8'"
      ]
     },
     "execution_count": 3,
     "metadata": {},
     "output_type": "execute_result"
    }
   ],
   "source": [
    "s = \"asdasdads\"\n",
    "\n",
    "hashlib.md5(s.encode()).hexdigest()"
   ]
  },
  {
   "cell_type": "code",
   "execution_count": 9,
   "metadata": {},
   "outputs": [
    {
     "data": {
      "text/plain": [
       "'f6fd82cc97fdc58a20ee15758c54b97a'"
      ]
     },
     "execution_count": 9,
     "metadata": {},
     "output_type": "execute_result"
    }
   ],
   "source": [
    "from folder_sync import MetadataHasher\n",
    "\n",
    "mh = MetadataHasher()\n",
    "\n",
    "mh(p)\n",
    "# 1f25960ea99d251e67ea7454f13e3d3a\n",
    "#f6fd82cc97fdc58a20ee15758c54b97a\n"
   ]
  }
 ],
 "metadata": {
  "kernelspec": {
   "display_name": "Python 3",
   "language": "python",
   "name": "python3"
  },
  "language_info": {
   "codemirror_mode": {
    "name": "ipython",
    "version": 3
   },
   "file_extension": ".py",
   "mimetype": "text/x-python",
   "name": "python",
   "nbconvert_exporter": "python",
   "pygments_lexer": "ipython3",
   "version": "3.11.3"
  },
  "orig_nbformat": 4,
  "vscode": {
   "interpreter": {
    "hash": "e41f63829d8e97276cbb1f7b474b7c30d3a33e7416d9a01b5ea5b6b03cd367df"
   }
  }
 },
 "nbformat": 4,
 "nbformat_minor": 2
}
