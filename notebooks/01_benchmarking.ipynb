{
 "cells": [
  {
   "cell_type": "code",
   "execution_count": 6,
   "metadata": {},
   "outputs": [
    {
     "name": "stderr",
     "output_type": "stream",
     "text": [
      "INFO:root:Syncing d:\\Dokumente\\Software_Projekte\\FolderSync\\tests\\test_data\\semester_10 to d:\\Dokumente\\Software_Projekte\\FolderSync\\tests\\test_data\\semester_10_copy\n",
      "INFO:root:Getting all valid files in source folder...\n",
      "100%|██████████| 2165/2165 [00:00<00:00, 7150.36it/s]\n",
      "INFO:root:Hashing all valid files in source folder...\n",
      "100%|██████████| 1583/1583 [00:00<00:00, 4690.60it/s]\n",
      "INFO:root:Making paths relative to source folder...\n",
      "INFO:root:Getting all valid files in target folder...\n",
      "100%|██████████| 2119/2119 [00:00<00:00, 7266.47it/s]\n",
      "INFO:root:Hashing all valid files in target folder...\n",
      "100%|██████████| 1583/1583 [00:00<00:00, 6146.31it/s]\n",
      "INFO:root:Making paths relative to target folder...\n",
      "INFO:root:Syncing files...\n",
      "INFO:root:Deleting files in target that are not in source...\n",
      "100%|██████████| 1583/1583 [00:00<00:00, 122768.82it/s]\n",
      "INFO:root:Copying files from source to target...\n",
      "100%|██████████| 1583/1583 [00:00<00:00, 144310.53it/s]\n",
      "INFO:root:Synced 1583 files:\n",
      "INFO:root:unchanged: 1583\n",
      "INFO:root:changed: 0\n",
      "INFO:root:new: 0\n",
      "INFO:root:removed: 0\n"
     ]
    }
   ],
   "source": [
    "from pathlib import Path\n",
    "import logging\n",
    "\n",
    "from folder_sync import Syncer, MetadataHasher, ContentHasher\n",
    "\n",
    "logging.basicConfig(level=logging.INFO)\n",
    "\n",
    "source_path = Path.cwd().parent / \"tests\" / \"test_data\" / \"semester_10\"\n",
    "target_path = Path.cwd().parent / \"tests\" / \"test_data\" / \"semester_10_copy\"\n",
    "\n",
    "syncer = Syncer(\n",
    "    source_path,\n",
    "    target_path,\n",
    "    file_hasher=MetadataHasher(), # ~5000 files/s\n",
    "    # file_hasher=ContentHasher(), # ~50 files/s\n",
    "    sync_method=\"path\",\n",
    "    n_threads=10,\n",
    ")\n",
    "\n",
    "syncer.run()"
   ]
  }
 ],
 "metadata": {
  "kernelspec": {
   "display_name": "FolderSync",
   "language": "python",
   "name": "python3"
  },
  "language_info": {
   "codemirror_mode": {
    "name": "ipython",
    "version": 3
   },
   "file_extension": ".py",
   "mimetype": "text/x-python",
   "name": "python",
   "nbconvert_exporter": "python",
   "pygments_lexer": "ipython3",
   "version": "3.11.3"
  },
  "orig_nbformat": 4
 },
 "nbformat": 4,
 "nbformat_minor": 2
}
